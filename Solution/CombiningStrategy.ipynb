{
 "cells": [
  {
   "cell_type": "code",
   "execution_count": 1,
   "metadata": {
    "collapsed": true
   },
   "outputs": [],
   "source": [
    "# Initial imports\n",
    "import pandas as pd\n",
    "import matplotlib.pyplot as plt\n",
    "%matplotlib inline\n",
    "import seaborn as sns\n",
    "import numpy as np\n",
    "import random\n",
    "import datetime\n",
    "\n",
    "import warnings\n",
    "warnings.filterwarnings('ignore')\n",
    "\n",
    "from sklearn import preprocessing"
   ]
  },
  {
   "cell_type": "code",
   "execution_count": 2,
   "metadata": {
    "collapsed": true
   },
   "outputs": [],
   "source": [
    "random.seed(3)"
   ]
  },
  {
   "cell_type": "code",
   "execution_count": 3,
   "metadata": {
    "collapsed": false
   },
   "outputs": [],
   "source": [
    "# Imports for better visualization\n",
    "from matplotlib import rcParams\n",
    "#colorbrewer2 Dark2 qualitative color table\n",
    "dark2_colors = [(0.10588235294117647, 0.6196078431372549, 0.4666666666666667),\n",
    "                (0.8509803921568627, 0.37254901960784315, 0.00784313725490196),\n",
    "                (0.4588235294117647, 0.4392156862745098, 0.7019607843137254),\n",
    "                (0.9058823529411765, 0.1607843137254902, 0.5411764705882353),\n",
    "                (0.4, 0.6509803921568628, 0.11764705882352941),\n",
    "                (0.9019607843137255, 0.6705882352941176, 0.00784313725490196),\n",
    "                (0.6509803921568628, 0.4627450980392157, 0.11372549019607843)]\n",
    "\n",
    "rcParams['figure.figsize'] = (8, 3)\n",
    "rcParams['figure.dpi'] = 150\n",
    "rcParams['axes.color_cycle'] = dark2_colors\n",
    "rcParams['lines.linewidth'] = 2\n",
    "rcParams['font.size'] = 14\n",
    "rcParams['patch.edgecolor'] = 'white'\n",
    "rcParams['patch.facecolor'] = dark2_colors[0]\n",
    "rcParams['font.family'] = 'StixGeneral'\n",
    "rcParams['axes.grid'] = True\n",
    "rcParams['axes.facecolor'] = '#eeeeee'"
   ]
  },
  {
   "cell_type": "markdown",
   "metadata": {},
   "source": [
    "## Importing Data"
   ]
  },
  {
   "cell_type": "code",
   "execution_count": 28,
   "metadata": {
    "collapsed": false
   },
   "outputs": [],
   "source": [
    "Supp = pd.read_csv(r\"C:\\Users\\HARSH\\Desktop\\AMEX\\COmbining\\Supp.csv\")\n",
    "Credit = pd.read_csv(r\"C:\\Users\\HARSH\\Desktop\\AMEX\\COmbining\\Credit.csv\")\n",
    "Elite = pd.read_csv(r\"C:\\Users\\HARSH\\Desktop\\AMEX\\COmbining\\Elite.csv\")\n",
    "NOne = pd.read_csv(r\"C:\\Users\\HARSH\\Desktop\\AMEX\\COmbining\\NOne.csv\")"
   ]
  },
  {
   "cell_type": "code",
   "execution_count": 29,
   "metadata": {
    "collapsed": false
   },
   "outputs": [
    {
     "data": {
      "text/html": [
       "<div>\n",
       "<table border=\"1\" class=\"dataframe\">\n",
       "  <thead>\n",
       "    <tr style=\"text-align: right;\">\n",
       "      <th></th>\n",
       "      <th>cm_key</th>\n",
       "      <th>Supp_NO</th>\n",
       "      <th>Supp_Yes</th>\n",
       "    </tr>\n",
       "  </thead>\n",
       "  <tbody>\n",
       "    <tr>\n",
       "      <th>0</th>\n",
       "      <td>50001</td>\n",
       "      <td>0.947563</td>\n",
       "      <td>0.052437</td>\n",
       "    </tr>\n",
       "    <tr>\n",
       "      <th>1</th>\n",
       "      <td>50002</td>\n",
       "      <td>0.962295</td>\n",
       "      <td>0.037705</td>\n",
       "    </tr>\n",
       "  </tbody>\n",
       "</table>\n",
       "</div>"
      ],
      "text/plain": [
       "   cm_key   Supp_NO  Supp_Yes\n",
       "0   50001  0.947563  0.052437\n",
       "1   50002  0.962295  0.037705"
      ]
     },
     "execution_count": 29,
     "metadata": {},
     "output_type": "execute_result"
    }
   ],
   "source": [
    "Supp.head(2)"
   ]
  },
  {
   "cell_type": "code",
   "execution_count": 31,
   "metadata": {
    "collapsed": false
   },
   "outputs": [],
   "source": [
    "data = pd.merge(Supp, Credit, how=\"inner\")\n",
    "data = pd.merge(data, Elite, how=\"inner\")\n",
    "data = pd.merge(data, NOne, how=\"inner\")"
   ]
  },
  {
   "cell_type": "code",
   "execution_count": 30,
   "metadata": {
    "collapsed": false
   },
   "outputs": [
    {
     "data": {
      "text/plain": [
       "(10000, 12)"
      ]
     },
     "execution_count": 30,
     "metadata": {},
     "output_type": "execute_result"
    }
   ],
   "source": [
    "data.shape"
   ]
  },
  {
   "cell_type": "code",
   "execution_count": 32,
   "metadata": {
    "collapsed": false
   },
   "outputs": [
    {
     "data": {
      "text/html": [
       "<div>\n",
       "<table border=\"1\" class=\"dataframe\">\n",
       "  <thead>\n",
       "    <tr style=\"text-align: right;\">\n",
       "      <th></th>\n",
       "      <th>cm_key</th>\n",
       "      <th>Supp_NO</th>\n",
       "      <th>Supp_Yes</th>\n",
       "      <th>Credit_NO</th>\n",
       "      <th>Credit_Yes</th>\n",
       "      <th>Elite_NO</th>\n",
       "      <th>Elite_Yes</th>\n",
       "      <th>None_NO</th>\n",
       "      <th>None_Yes</th>\n",
       "    </tr>\n",
       "  </thead>\n",
       "  <tbody>\n",
       "    <tr>\n",
       "      <th>0</th>\n",
       "      <td>50001</td>\n",
       "      <td>0.947563</td>\n",
       "      <td>0.052437</td>\n",
       "      <td>0.930272</td>\n",
       "      <td>0.069728</td>\n",
       "      <td>0.817302</td>\n",
       "      <td>0.182698</td>\n",
       "      <td>0.264997</td>\n",
       "      <td>0.735003</td>\n",
       "    </tr>\n",
       "    <tr>\n",
       "      <th>1</th>\n",
       "      <td>50002</td>\n",
       "      <td>0.962295</td>\n",
       "      <td>0.037705</td>\n",
       "      <td>0.996729</td>\n",
       "      <td>0.003271</td>\n",
       "      <td>0.962443</td>\n",
       "      <td>0.037557</td>\n",
       "      <td>0.124649</td>\n",
       "      <td>0.875351</td>\n",
       "    </tr>\n",
       "  </tbody>\n",
       "</table>\n",
       "</div>"
      ],
      "text/plain": [
       "   cm_key   Supp_NO  Supp_Yes  Credit_NO  Credit_Yes  Elite_NO  Elite_Yes  \\\n",
       "0   50001  0.947563  0.052437   0.930272    0.069728  0.817302   0.182698   \n",
       "1   50002  0.962295  0.037705   0.996729    0.003271  0.962443   0.037557   \n",
       "\n",
       "    None_NO  None_Yes  \n",
       "0  0.264997  0.735003  \n",
       "1  0.124649  0.875351  "
      ]
     },
     "execution_count": 32,
     "metadata": {},
     "output_type": "execute_result"
    }
   ],
   "source": [
    "data.head(2)"
   ]
  },
  {
   "cell_type": "code",
   "execution_count": null,
   "metadata": {
    "collapsed": true
   },
   "outputs": [],
   "source": []
  },
  {
   "cell_type": "markdown",
   "metadata": {},
   "source": [
    "## According to Max"
   ]
  },
  {
   "cell_type": "code",
   "execution_count": 47,
   "metadata": {
    "collapsed": true
   },
   "outputs": [],
   "source": [
    "data[\"Max\"] = data.apply(lambda x: max(x[\"Supp_Yes\"], x[\"Elite_Yes\"], x[\"Credit_Yes\"]), axis=1)\n",
    "data[\"predict\"] = \"Supp\"\n",
    "data[\"predict\"][data.Max == data.Elite_Yes] = \"Elite\"\n",
    "data[\"predict\"][data.Max == data.Credit_Yes] = \"Credit\""
   ]
  },
  {
   "cell_type": "code",
   "execution_count": 34,
   "metadata": {
    "collapsed": true
   },
   "outputs": [],
   "source": [
    "data['Rank_Max'] = data[\"Max\"].rank(ascending=0)\n",
    "data = data.sort([\"Rank_Max\"], ascending = 1)"
   ]
  },
  {
   "cell_type": "code",
   "execution_count": 36,
   "metadata": {
    "collapsed": false
   },
   "outputs": [
    {
     "data": {
      "text/html": [
       "<div>\n",
       "<table border=\"1\" class=\"dataframe\">\n",
       "  <thead>\n",
       "    <tr style=\"text-align: right;\">\n",
       "      <th></th>\n",
       "      <th>cm_key</th>\n",
       "      <th>Supp_NO</th>\n",
       "      <th>Supp_Yes</th>\n",
       "      <th>Credit_NO</th>\n",
       "      <th>Credit_Yes</th>\n",
       "      <th>Elite_NO</th>\n",
       "      <th>Elite_Yes</th>\n",
       "      <th>None_NO</th>\n",
       "      <th>None_Yes</th>\n",
       "      <th>Max</th>\n",
       "      <th>Rank_Max</th>\n",
       "    </tr>\n",
       "  </thead>\n",
       "  <tbody>\n",
       "    <tr>\n",
       "      <th>126</th>\n",
       "      <td>50127</td>\n",
       "      <td>0.126912</td>\n",
       "      <td>0.873088</td>\n",
       "      <td>0.999331</td>\n",
       "      <td>0.000669</td>\n",
       "      <td>0.999994</td>\n",
       "      <td>0.000006</td>\n",
       "      <td>0.731745</td>\n",
       "      <td>0.268255</td>\n",
       "      <td>0.873088</td>\n",
       "      <td>1.0</td>\n",
       "    </tr>\n",
       "    <tr>\n",
       "      <th>8225</th>\n",
       "      <td>58226</td>\n",
       "      <td>0.938610</td>\n",
       "      <td>0.061390</td>\n",
       "      <td>0.982611</td>\n",
       "      <td>0.017389</td>\n",
       "      <td>0.129592</td>\n",
       "      <td>0.870408</td>\n",
       "      <td>0.650703</td>\n",
       "      <td>0.349297</td>\n",
       "      <td>0.870408</td>\n",
       "      <td>2.0</td>\n",
       "    </tr>\n",
       "  </tbody>\n",
       "</table>\n",
       "</div>"
      ],
      "text/plain": [
       "      cm_key   Supp_NO  Supp_Yes  Credit_NO  Credit_Yes  Elite_NO  Elite_Yes  \\\n",
       "126    50127  0.126912  0.873088   0.999331    0.000669  0.999994   0.000006   \n",
       "8225   58226  0.938610  0.061390   0.982611    0.017389  0.129592   0.870408   \n",
       "\n",
       "       None_NO  None_Yes       Max  Rank_Max  \n",
       "126   0.731745  0.268255  0.873088       1.0  \n",
       "8225  0.650703  0.349297  0.870408       2.0  "
      ]
     },
     "execution_count": 36,
     "metadata": {},
     "output_type": "execute_result"
    }
   ],
   "source": [
    "data.head(2)"
   ]
  },
  {
   "cell_type": "code",
   "execution_count": null,
   "metadata": {
    "collapsed": true
   },
   "outputs": [],
   "source": []
  },
  {
   "cell_type": "markdown",
   "metadata": {},
   "source": [
    "## According to None"
   ]
  },
  {
   "cell_type": "code",
   "execution_count": 38,
   "metadata": {
    "collapsed": false
   },
   "outputs": [],
   "source": [
    "data['RankNone'] = data[\"None_Yes\"].rank(ascending=1)\n",
    "data = data.sort([\"RankNone\"], ascending = 1)"
   ]
  },
  {
   "cell_type": "code",
   "execution_count": 39,
   "metadata": {
    "collapsed": false
   },
   "outputs": [
    {
     "data": {
      "text/html": [
       "<div>\n",
       "<table border=\"1\" class=\"dataframe\">\n",
       "  <thead>\n",
       "    <tr style=\"text-align: right;\">\n",
       "      <th></th>\n",
       "      <th>cm_key</th>\n",
       "      <th>Supp_NO</th>\n",
       "      <th>Supp_Yes</th>\n",
       "      <th>Credit_NO</th>\n",
       "      <th>Credit_Yes</th>\n",
       "      <th>Elite_NO</th>\n",
       "      <th>Elite_Yes</th>\n",
       "      <th>None_NO</th>\n",
       "      <th>None_Yes</th>\n",
       "      <th>Max</th>\n",
       "      <th>Rank_Max</th>\n",
       "      <th>RankNone</th>\n",
       "    </tr>\n",
       "  </thead>\n",
       "  <tbody>\n",
       "    <tr>\n",
       "      <th>643</th>\n",
       "      <td>50644</td>\n",
       "      <td>0.543376</td>\n",
       "      <td>0.456624</td>\n",
       "      <td>0.998767</td>\n",
       "      <td>0.001233</td>\n",
       "      <td>0.978124</td>\n",
       "      <td>0.021876</td>\n",
       "      <td>0.781752</td>\n",
       "      <td>0.218248</td>\n",
       "      <td>0.456624</td>\n",
       "      <td>219.0</td>\n",
       "      <td>1.0</td>\n",
       "    </tr>\n",
       "    <tr>\n",
       "      <th>7144</th>\n",
       "      <td>57145</td>\n",
       "      <td>0.904556</td>\n",
       "      <td>0.095444</td>\n",
       "      <td>0.743311</td>\n",
       "      <td>0.256689</td>\n",
       "      <td>0.608052</td>\n",
       "      <td>0.391947</td>\n",
       "      <td>0.743380</td>\n",
       "      <td>0.256620</td>\n",
       "      <td>0.391947</td>\n",
       "      <td>367.0</td>\n",
       "      <td>2.0</td>\n",
       "    </tr>\n",
       "  </tbody>\n",
       "</table>\n",
       "</div>"
      ],
      "text/plain": [
       "      cm_key   Supp_NO  Supp_Yes  Credit_NO  Credit_Yes  Elite_NO  Elite_Yes  \\\n",
       "643    50644  0.543376  0.456624   0.998767    0.001233  0.978124   0.021876   \n",
       "7144   57145  0.904556  0.095444   0.743311    0.256689  0.608052   0.391947   \n",
       "\n",
       "       None_NO  None_Yes       Max  Rank_Max  RankNone  \n",
       "643   0.781752  0.218248  0.456624     219.0       1.0  \n",
       "7144  0.743380  0.256620  0.391947     367.0       2.0  "
      ]
     },
     "execution_count": 39,
     "metadata": {},
     "output_type": "execute_result"
    }
   ],
   "source": [
    "data.head(2)"
   ]
  },
  {
   "cell_type": "code",
   "execution_count": null,
   "metadata": {
    "collapsed": true
   },
   "outputs": [],
   "source": []
  },
  {
   "cell_type": "markdown",
   "metadata": {},
   "source": [
    "## According to Supp_No + Credit_No + Elite_No + None_Yes"
   ]
  },
  {
   "cell_type": "code",
   "execution_count": 40,
   "metadata": {
    "collapsed": false
   },
   "outputs": [],
   "source": [
    "data[\"No\"] = data.Supp_NO + data.Credit_NO + data.Elite_NO + data.None_Yes\n",
    "\n",
    "data['Rank_NO'] = data[\"No\"].rank(ascending=1)\n",
    "data = data.sort([\"Rank_NO\"], ascending = 1)"
   ]
  },
  {
   "cell_type": "code",
   "execution_count": 41,
   "metadata": {
    "collapsed": false
   },
   "outputs": [],
   "source": [
    "del data[\"Supp_NO\"]\n",
    "del data[\"Credit_NO\"]\n",
    "del data[\"Elite_NO\"]\n",
    "del data[\"None_NO\"]"
   ]
  },
  {
   "cell_type": "code",
   "execution_count": 42,
   "metadata": {
    "collapsed": false
   },
   "outputs": [
    {
     "data": {
      "text/html": [
       "<div>\n",
       "<table border=\"1\" class=\"dataframe\">\n",
       "  <thead>\n",
       "    <tr style=\"text-align: right;\">\n",
       "      <th></th>\n",
       "      <th>cm_key</th>\n",
       "      <th>Supp_Yes</th>\n",
       "      <th>Credit_Yes</th>\n",
       "      <th>Elite_Yes</th>\n",
       "      <th>None_Yes</th>\n",
       "      <th>Max</th>\n",
       "      <th>Rank_Max</th>\n",
       "      <th>RankNone</th>\n",
       "      <th>No</th>\n",
       "      <th>Rank_NO</th>\n",
       "    </tr>\n",
       "  </thead>\n",
       "  <tbody>\n",
       "    <tr>\n",
       "      <th>4</th>\n",
       "      <td>50005</td>\n",
       "      <td>0.025508</td>\n",
       "      <td>0.179271</td>\n",
       "      <td>0.830389</td>\n",
       "      <td>0.327184</td>\n",
       "      <td>0.830389</td>\n",
       "      <td>3.0</td>\n",
       "      <td>21.0</td>\n",
       "      <td>2.292017</td>\n",
       "      <td>1.0</td>\n",
       "    </tr>\n",
       "    <tr>\n",
       "      <th>3533</th>\n",
       "      <td>53534</td>\n",
       "      <td>0.108121</td>\n",
       "      <td>0.144952</td>\n",
       "      <td>0.672711</td>\n",
       "      <td>0.282073</td>\n",
       "      <td>0.672711</td>\n",
       "      <td>30.0</td>\n",
       "      <td>6.0</td>\n",
       "      <td>2.356289</td>\n",
       "      <td>2.0</td>\n",
       "    </tr>\n",
       "  </tbody>\n",
       "</table>\n",
       "</div>"
      ],
      "text/plain": [
       "      cm_key  Supp_Yes  Credit_Yes  Elite_Yes  None_Yes       Max  Rank_Max  \\\n",
       "4      50005  0.025508    0.179271   0.830389  0.327184  0.830389       3.0   \n",
       "3533   53534  0.108121    0.144952   0.672711  0.282073  0.672711      30.0   \n",
       "\n",
       "      RankNone        No  Rank_NO  \n",
       "4         21.0  2.292017      1.0  \n",
       "3533       6.0  2.356289      2.0  "
      ]
     },
     "execution_count": 42,
     "metadata": {},
     "output_type": "execute_result"
    }
   ],
   "source": [
    "data.head(2)"
   ]
  },
  {
   "cell_type": "code",
   "execution_count": null,
   "metadata": {
    "collapsed": true
   },
   "outputs": [],
   "source": []
  },
  {
   "cell_type": "markdown",
   "metadata": {},
   "source": [
    "## According to Max -  None"
   ]
  },
  {
   "cell_type": "code",
   "execution_count": 43,
   "metadata": {
    "collapsed": false
   },
   "outputs": [],
   "source": [
    "data[\"Max-None\"] = data[\"Max\"] - data[\"None_Yes\"]\n",
    "\n",
    "data['Rank_Max-None'] = data[\"Max-None\"].rank(ascending=0)\n",
    "data = data.sort([\"Rank_Max-None\"], ascending = 1)"
   ]
  },
  {
   "cell_type": "code",
   "execution_count": 44,
   "metadata": {
    "collapsed": false
   },
   "outputs": [
    {
     "data": {
      "text/html": [
       "<div>\n",
       "<table border=\"1\" class=\"dataframe\">\n",
       "  <thead>\n",
       "    <tr style=\"text-align: right;\">\n",
       "      <th></th>\n",
       "      <th>cm_key</th>\n",
       "      <th>Supp_Yes</th>\n",
       "      <th>Credit_Yes</th>\n",
       "      <th>Elite_Yes</th>\n",
       "      <th>None_Yes</th>\n",
       "      <th>Max</th>\n",
       "      <th>Rank_Max</th>\n",
       "      <th>RankNone</th>\n",
       "      <th>No</th>\n",
       "      <th>Rank_NO</th>\n",
       "      <th>Max-None</th>\n",
       "      <th>Rank_Max-None</th>\n",
       "    </tr>\n",
       "  </thead>\n",
       "  <tbody>\n",
       "    <tr>\n",
       "      <th>126</th>\n",
       "      <td>50127</td>\n",
       "      <td>0.873088</td>\n",
       "      <td>0.000669</td>\n",
       "      <td>0.000006</td>\n",
       "      <td>0.268255</td>\n",
       "      <td>0.873088</td>\n",
       "      <td>1.0</td>\n",
       "      <td>3.0</td>\n",
       "      <td>2.394492</td>\n",
       "      <td>5.0</td>\n",
       "      <td>0.604834</td>\n",
       "      <td>1.0</td>\n",
       "    </tr>\n",
       "    <tr>\n",
       "      <th>8225</th>\n",
       "      <td>58226</td>\n",
       "      <td>0.061390</td>\n",
       "      <td>0.017389</td>\n",
       "      <td>0.870408</td>\n",
       "      <td>0.349297</td>\n",
       "      <td>0.870408</td>\n",
       "      <td>2.0</td>\n",
       "      <td>34.0</td>\n",
       "      <td>2.400110</td>\n",
       "      <td>6.0</td>\n",
       "      <td>0.521111</td>\n",
       "      <td>2.0</td>\n",
       "    </tr>\n",
       "  </tbody>\n",
       "</table>\n",
       "</div>"
      ],
      "text/plain": [
       "      cm_key  Supp_Yes  Credit_Yes  Elite_Yes  None_Yes       Max  Rank_Max  \\\n",
       "126    50127  0.873088    0.000669   0.000006  0.268255  0.873088       1.0   \n",
       "8225   58226  0.061390    0.017389   0.870408  0.349297  0.870408       2.0   \n",
       "\n",
       "      RankNone        No  Rank_NO  Max-None  Rank_Max-None  \n",
       "126        3.0  2.394492      5.0  0.604834            1.0  \n",
       "8225      34.0  2.400110      6.0  0.521111            2.0  "
      ]
     },
     "execution_count": 44,
     "metadata": {},
     "output_type": "execute_result"
    }
   ],
   "source": [
    "data.head(2)"
   ]
  },
  {
   "cell_type": "code",
   "execution_count": null,
   "metadata": {
    "collapsed": true
   },
   "outputs": [],
   "source": []
  },
  {
   "cell_type": "markdown",
   "metadata": {},
   "source": [
    "## Ensembling"
   ]
  },
  {
   "cell_type": "code",
   "execution_count": 45,
   "metadata": {
    "collapsed": true
   },
   "outputs": [],
   "source": [
    "data[\"Rank_Combine\"] = data[\"Rank_Max-None\"] + data[\"Rank_NO\"]"
   ]
  },
  {
   "cell_type": "code",
   "execution_count": 48,
   "metadata": {
    "collapsed": false
   },
   "outputs": [],
   "source": [
    "data = data.sort([\"Rank_Combine\"], ascending = 1)\n",
    "submission = data[[\"cm_key\", \"predict\"]][0:1000]"
   ]
  },
  {
   "cell_type": "code",
   "execution_count": 49,
   "metadata": {
    "collapsed": false
   },
   "outputs": [
    {
     "data": {
      "text/html": [
       "<div>\n",
       "<table border=\"1\" class=\"dataframe\">\n",
       "  <thead>\n",
       "    <tr style=\"text-align: right;\">\n",
       "      <th></th>\n",
       "      <th>cm_key</th>\n",
       "      <th>Supp_Yes</th>\n",
       "      <th>Credit_Yes</th>\n",
       "      <th>Elite_Yes</th>\n",
       "      <th>None_Yes</th>\n",
       "      <th>Max</th>\n",
       "      <th>Rank_Max</th>\n",
       "      <th>RankNone</th>\n",
       "      <th>No</th>\n",
       "      <th>Rank_NO</th>\n",
       "      <th>Max-None</th>\n",
       "      <th>Rank_Max-None</th>\n",
       "      <th>Rank_Combine</th>\n",
       "      <th>predict</th>\n",
       "    </tr>\n",
       "  </thead>\n",
       "  <tbody>\n",
       "    <tr>\n",
       "      <th>4</th>\n",
       "      <td>50005</td>\n",
       "      <td>0.025508</td>\n",
       "      <td>0.179271</td>\n",
       "      <td>0.830389</td>\n",
       "      <td>0.327184</td>\n",
       "      <td>0.830389</td>\n",
       "      <td>3.0</td>\n",
       "      <td>21.0</td>\n",
       "      <td>2.292017</td>\n",
       "      <td>1.0</td>\n",
       "      <td>0.503205</td>\n",
       "      <td>3.0</td>\n",
       "      <td>4.0</td>\n",
       "      <td>Elite</td>\n",
       "    </tr>\n",
       "    <tr>\n",
       "      <th>126</th>\n",
       "      <td>50127</td>\n",
       "      <td>0.873088</td>\n",
       "      <td>0.000669</td>\n",
       "      <td>0.000006</td>\n",
       "      <td>0.268255</td>\n",
       "      <td>0.873088</td>\n",
       "      <td>1.0</td>\n",
       "      <td>3.0</td>\n",
       "      <td>2.394492</td>\n",
       "      <td>5.0</td>\n",
       "      <td>0.604834</td>\n",
       "      <td>1.0</td>\n",
       "      <td>6.0</td>\n",
       "      <td>Supp</td>\n",
       "    </tr>\n",
       "  </tbody>\n",
       "</table>\n",
       "</div>"
      ],
      "text/plain": [
       "     cm_key  Supp_Yes  Credit_Yes  Elite_Yes  None_Yes       Max  Rank_Max  \\\n",
       "4     50005  0.025508    0.179271   0.830389  0.327184  0.830389       3.0   \n",
       "126   50127  0.873088    0.000669   0.000006  0.268255  0.873088       1.0   \n",
       "\n",
       "     RankNone        No  Rank_NO  Max-None  Rank_Max-None  Rank_Combine  \\\n",
       "4        21.0  2.292017      1.0  0.503205            3.0           4.0   \n",
       "126       3.0  2.394492      5.0  0.604834            1.0           6.0   \n",
       "\n",
       "    predict  \n",
       "4     Elite  \n",
       "126    Supp  "
      ]
     },
     "execution_count": 49,
     "metadata": {},
     "output_type": "execute_result"
    }
   ],
   "source": [
    "data.head(2)"
   ]
  },
  {
   "cell_type": "code",
   "execution_count": 52,
   "metadata": {
    "collapsed": false
   },
   "outputs": [
    {
     "data": {
      "text/html": [
       "<div>\n",
       "<table border=\"1\" class=\"dataframe\">\n",
       "  <thead>\n",
       "    <tr style=\"text-align: right;\">\n",
       "      <th></th>\n",
       "      <th>cm_key</th>\n",
       "      <th>predict</th>\n",
       "    </tr>\n",
       "  </thead>\n",
       "  <tbody>\n",
       "    <tr>\n",
       "      <th>4</th>\n",
       "      <td>50005</td>\n",
       "      <td>Elite</td>\n",
       "    </tr>\n",
       "    <tr>\n",
       "      <th>126</th>\n",
       "      <td>50127</td>\n",
       "      <td>Supp</td>\n",
       "    </tr>\n",
       "  </tbody>\n",
       "</table>\n",
       "</div>"
      ],
      "text/plain": [
       "     cm_key predict\n",
       "4     50005   Elite\n",
       "126   50127    Supp"
      ]
     },
     "execution_count": 52,
     "metadata": {},
     "output_type": "execute_result"
    }
   ],
   "source": [
    "submission.head(2)"
   ]
  },
  {
   "cell_type": "code",
   "execution_count": 53,
   "metadata": {
    "collapsed": false
   },
   "outputs": [
    {
     "data": {
      "text/plain": [
       "Elite     381\n",
       "Credit    356\n",
       "Supp      263\n",
       "Name: predict, dtype: int64"
      ]
     },
     "execution_count": 53,
     "metadata": {},
     "output_type": "execute_result"
    }
   ],
   "source": [
    "submission[\"predict\"].value_counts()"
   ]
  },
  {
   "cell_type": "code",
   "execution_count": 210,
   "metadata": {
    "collapsed": true
   },
   "outputs": [],
   "source": [
    "now = datetime.datetime.now()\n",
    "submission.to_csv(r\"C:\\Users\\HARSH\\Desktop\\AMEX\\Submissions\\Models_Final\" + str(now.day) + \"_\" + str(now.hour) +\"_\" + str(now.minute) + \".csv\", index=False,header=None)"
   ]
  }
 ],
 "metadata": {
  "kernelspec": {
   "display_name": "Python [default]",
   "language": "python",
   "name": "python3"
  },
  "language_info": {
   "codemirror_mode": {
    "name": "ipython",
    "version": 3
   },
   "file_extension": ".py",
   "mimetype": "text/x-python",
   "name": "python",
   "nbconvert_exporter": "python",
   "pygments_lexer": "ipython3",
   "version": "3.5.2"
  }
 },
 "nbformat": 4,
 "nbformat_minor": 2
}
